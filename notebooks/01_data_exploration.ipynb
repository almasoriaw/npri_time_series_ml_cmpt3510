{
 "cells": [
  {
   "cell_type": "markdown",
   "metadata": {},
   "source": [
    "# NPRI Time Series Analysis - Data Exploration\n",
    "\n",
    "This notebook explores the National Pollutant Release Inventory (NPRI) dataset, which includes data merged from the CMPT2400 project with 2023 data.\n",
    "\n",
    "## Overview\n",
    "\n",
    "The NPRI dataset contains information about pollutant releases across different industries in Canada. This notebook will:\n",
    "\n",
    "1. Load and inspect the merged dataset\n",
    "2. Perform exploratory data analysis\n",
    "3. Identify key patterns and trends\n",
    "4. Prepare for data preprocessing"
   ]
  },
  {
   "cell_type": "code",
   "execution_count": null,
   "metadata": {},
   "source": [
    "# Import required libraries\n",
    "import numpy as np\n",
    "import pandas as pd\n",
    "import matplotlib.pyplot as plt\n",
    "import seaborn as sns\n",
    "import plotly.express as px\n",
    "\n",
    "# Set display options\n",
    "pd.set_option('display.max_columns', None)\n",
    "pd.set_option('display.max_rows', 100)\n",
    "\n",
    "# Set plotting style\n",
    "plt.style.use('seaborn-whitegrid')\n",
    "sns.set_palette('viridis')"
   ]
  },
  {
   "cell_type": "markdown",
   "metadata": {},
   "source": [
    "## 1. Load and Inspect the Dataset\n",
    "\n",
    "First, let's load the merged dataset from CMPT2400 that includes the 2023 data."
   ]
  },
  {
   "cell_type": "code",
   "execution_count": null,
   "metadata": {},
   "source": [
    "# Load the dataset\n",
    "df_releases = pd.read_csv('../data/raw/df_merged_releases.csv')\n",
    "\n",
    "# Display basic information\n",
    "print(f\"Dataset shape: {df_releases.shape}\")\n",
    "print(\"\\nFirst 5 rows:\")\n",
    "df_releases.head()"
   ]
  },
  {
   "cell_type": "code",
   "execution_count": null,
   "metadata": {},
   "source": [
    "# Check data types and missing values\n",
    "print(\"\\nData Types:\")\n",
    "print(df_releases.dtypes)\n",
    "\n",
    "print(\"\\nMissing Values:\")\n",
    "print(df_releases.isnull().sum())"
   ]
  },
  {
   "cell_type": "markdown",
   "metadata": {},
   "source": [
    "## 2. Explore Key Variables\n",
    "\n",
    "Let's examine the distribution of key variables such as reporting years, industry sectors, and pollutant releases."
   ]
  },
  {
   "cell_type": "code",
   "execution_count": null,
   "metadata": {},
   "source": [
    "# Distribution of reporting years\n",
    "yearly_counts = df_releases['Reporting_Year'].value_counts().sort_index()\n",
    "plt.figure(figsize=(12, 6))\n",
    "yearly_counts.plot(kind='bar')\n",
    "plt.title('Number of Reports by Year')\n",
    "plt.xlabel('Reporting Year')\n",
    "plt.ylabel('Count')\n",
    "plt.xticks(rotation=45)\n",
    "plt.show()"
   ]
  },
  {
   "cell_type": "code",
   "execution_count": null,
   "metadata": {},
   "source": [
    "# Distribution of industry sectors\n",
    "sector_counts = df_releases['Industry_Sector'].value_counts()\n",
    "plt.figure(figsize=(14, 8))\n",
    "sector_counts.plot(kind='barh')\n",
    "plt.title('Reports by Industry Sector')\n",
    "plt.xlabel('Count')\n",
    "plt.tight_layout()\n",
    "plt.show()"
   ]
  },
  {
   "cell_type": "code",
   "execution_count": null,
   "metadata": {},
   "source": [
    "# Distribution of pollutant release amounts\n",
    "release_columns = ['Total_Air_Releases', 'Total_Land_Releases', 'Total_Water_Releases']\n",
    "\n",
    "fig, axes = plt.subplots(3, 1, figsize=(12, 15))\n",
    "for i, col in enumerate(release_columns):\n",
    "    sns.histplot(df_releases[col].dropna(), ax=axes[i], kde=True, log_scale=True)\n",
    "    axes[i].set_title(f'Distribution of {col}')\n",
    "    axes[i].set_xlabel('Release Amount (tonnes)')\n",
    "plt.tight_layout()\n",
    "plt.show()"
   ]
  },
  {
   "cell_type": "markdown",
   "metadata": {},
   "source": [
    "## 3. Time Series Exploration\n",
    "\n",
    "Let's examine how pollutant releases have changed over time, focusing on specific industry sectors."
   ]
  },
  {
   "cell_type": "code",
   "execution_count": null,
   "metadata": {},
   "source": [
    "# Time series of total releases by year\n",
    "yearly_releases = df_releases.groupby('Reporting_Year')[release_columns].sum().reset_index()\n",
    "\n",
    "fig = px.line(yearly_releases, x='Reporting_Year', y=release_columns,\n",
    "             title='Total Releases by Year',\n",
    "             labels={'value': 'Total Releases (tonnes)', 'variable': 'Release Type'})\n",
    "fig.show()"
   ]
  },
  {
   "cell_type": "code",
   "execution_count": null,
   "metadata": {},
   "source": [
    "# Time series by industry sector (top 5 sectors by air releases)\n",
    "top_sectors = df_releases.groupby('Industry_Sector')['Total_Air_Releases'].sum().nlargest(5).index\n",
    "\n",
    "# Filter for top sectors\n",
    "top_sector_data = df_releases[df_releases['Industry_Sector'].isin(top_sectors)]\n",
    "\n",
    "# Group by year and sector\n",
    "sector_time_series = top_sector_data.groupby(['Reporting_Year', 'Industry_Sector'])['Total_Air_Releases'].sum().reset_index()\n",
    "\n",
    "# Create interactive plot\n",
    "fig = px.line(sector_time_series, x='Reporting_Year', y='Total_Air_Releases', color='Industry_Sector',\n",
    "             title='Air Releases by Top Industry Sectors Over Time',\n",
    "             labels={'Total_Air_Releases': 'Air Releases (tonnes)'})\n",
    "fig.show()"
   ]
  },
  {
   "cell_type": "markdown",
   "metadata": {},
   "source": [
    "## 4. Correlation Analysis\n",
    "\n",
    "Let's explore correlations between different types of releases."
   ]
  },
  {
   "cell_type": "code",
   "execution_count": null,
   "metadata": {},
   "source": [
    "# Correlation heatmap\n",
    "plt.figure(figsize=(10, 8))\n",
    "correlation = df_releases[release_columns].corr()\n",
    "sns.heatmap(correlation, annot=True, cmap='coolwarm', vmin=-1, vmax=1)\n",
    "plt.title('Correlation Between Release Types')\n",
    "plt.show()"
   ]
  },
  {
   "cell_type": "markdown",
   "metadata": {},
   "source": [
    "## 5. Data Quality Assessment\n",
    "\n",
    "Let's identify any data quality issues that need to be addressed in the preprocessing step."
   ]
  },
  {
   "cell_type": "code",
   "execution_count": null,
   "metadata": {},
   "source": [
    "# Check for outliers in release amounts\n",
    "plt.figure(figsize=(14, 6))\n",
    "for i, col in enumerate(release_columns):\n",
    "    plt.subplot(1, 3, i+1)\n",
    "    sns.boxplot(y=df_releases[col].dropna())\n",
    "    plt.title(f'Boxplot of {col}')\n",
    "    plt.tight_layout()\n",
    "plt.show()"
   ]
  },
  {
   "cell_type": "code",
   "execution_count": null,
   "metadata": {},
   "source": [
    "# Identify extreme outliers\n",
    "for col in release_columns:\n",
    "    q75, q25 = np.percentile(df_releases[col].dropna(), [75, 25])\n",
    "    iqr = q75 - q25\n",
    "    upper_bound = q75 + 3 * iqr\n",
    "    \n",
    "    extreme_outliers = df_releases[df_releases[col] > upper_bound]\n",
    "    print(f\"\\nExtreme outliers in {col}: {len(extreme_outliers)}\")\n",
    "    if len(extreme_outliers) > 0:\n",
    "        print(extreme_outliers[[\"Reporting_Year\", \"Industry_Sector\", \"Facility_Name\", col]].head())"
   ]
  },
  {
   "cell_type": "markdown",
   "metadata": {},
   "source": [
    "## 6. Summary of Findings\n",
    "\n",
    "Key findings from the exploratory data analysis:\n",
    "\n",
    "1. The dataset includes data from [YEAR_RANGE] years, with [OBSERVATIONS] on the merged 2023 data.\n",
    "2. Industry sectors with highest releases include [TOP_SECTORS].\n",
    "3. Time trends show [TRENDS_OBSERVED].\n",
    "4. Data quality issues identified: [ISSUES].\n",
    "\n",
    "Next steps:\n",
    "- Proceed to data preprocessing (notebook 02)\n",
    "- Handle identified quality issues\n",
    "- Prepare for time series modeling"
   ]
  }
 ],
 "metadata": {
  "kernelspec": {
   "display_name": "Python 3",
   "language": "python",
   "name": "python3"
  },
  "language_info": {
   "codemirror_mode": {
    "name": "ipython",
    "version": 3
   },
   "file_extension": ".py",
   "mimetype": "text/x-python",
   "name": "python",
   "nbconvert_exporter": "python",
   "pygments_lexer": "ipython3",
   "version": "3.8.0"
  }
 },
 "nbformat": 4,
 "nbformat_minor": 4
}
